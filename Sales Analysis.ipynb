{
 "cells": [
  {
   "cell_type": "code",
   "execution_count": 1,
   "id": "fcccf6cc",
   "metadata": {},
   "outputs": [],
   "source": [
    "##Importing libraries\n",
    "\n",
    "import numpy as np\n",
    "import pandas as pd\n",
    "import matplotlib.pyplot as plt\n",
    "import seaborn as sns\n",
    "import datetime as datetime"
   ]
  },
  {
   "cell_type": "markdown",
   "id": "bfb0e523",
   "metadata": {},
   "source": [
    "## Objectives\n",
    "\n",
    "1. Top five (5) most sold products?\n",
    "2. Which category of products generated the most revenue?\n",
    "3. Top ten(10) cities that recorded the higest revenue.\n",
    "4. Preferred choice of shipment by customers.\n",
    "5. Sales trend over the three (3) years\n",
    "6. Sales performance between 2017 and 2018"
   ]
  },
  {
   "cell_type": "code",
   "execution_count": 2,
   "id": "98d325fb",
   "metadata": {},
   "outputs": [],
   "source": [
    "sales_data = pd.read_csv('sales_data.csv')"
   ]
  },
  {
   "cell_type": "code",
   "execution_count": 3,
   "id": "fef39cad",
   "metadata": {},
   "outputs": [
    {
     "data": {
      "text/html": [
       "<div>\n",
       "<style scoped>\n",
       "    .dataframe tbody tr th:only-of-type {\n",
       "        vertical-align: middle;\n",
       "    }\n",
       "\n",
       "    .dataframe tbody tr th {\n",
       "        vertical-align: top;\n",
       "    }\n",
       "\n",
       "    .dataframe thead th {\n",
       "        text-align: right;\n",
       "    }\n",
       "</style>\n",
       "<table border=\"1\" class=\"dataframe\">\n",
       "  <thead>\n",
       "    <tr style=\"text-align: right;\">\n",
       "      <th></th>\n",
       "      <th>Row ID</th>\n",
       "      <th>Order ID</th>\n",
       "      <th>Order Date</th>\n",
       "      <th>Ship Date</th>\n",
       "      <th>Ship Mode</th>\n",
       "      <th>Customer ID</th>\n",
       "      <th>Customer Name</th>\n",
       "      <th>Segment</th>\n",
       "      <th>Country</th>\n",
       "      <th>City</th>\n",
       "      <th>State</th>\n",
       "      <th>Postal Code</th>\n",
       "      <th>Region</th>\n",
       "      <th>Product ID</th>\n",
       "      <th>Category</th>\n",
       "      <th>Sub-Category</th>\n",
       "      <th>Product Name</th>\n",
       "      <th>Sales</th>\n",
       "    </tr>\n",
       "  </thead>\n",
       "  <tbody>\n",
       "    <tr>\n",
       "      <th>0</th>\n",
       "      <td>1</td>\n",
       "      <td>CA-2017-152156</td>\n",
       "      <td>08/11/2017</td>\n",
       "      <td>11/11/2017</td>\n",
       "      <td>Second Class</td>\n",
       "      <td>CG-12520</td>\n",
       "      <td>Claire Gute</td>\n",
       "      <td>Consumer</td>\n",
       "      <td>United States</td>\n",
       "      <td>Henderson</td>\n",
       "      <td>Kentucky</td>\n",
       "      <td>42420.0</td>\n",
       "      <td>South</td>\n",
       "      <td>FUR-BO-10001798</td>\n",
       "      <td>Furniture</td>\n",
       "      <td>Bookcases</td>\n",
       "      <td>Bush Somerset Collection Bookcase</td>\n",
       "      <td>261.96</td>\n",
       "    </tr>\n",
       "    <tr>\n",
       "      <th>1</th>\n",
       "      <td>2</td>\n",
       "      <td>CA-2017-152156</td>\n",
       "      <td>08/11/2017</td>\n",
       "      <td>11/11/2017</td>\n",
       "      <td>Second Class</td>\n",
       "      <td>CG-12520</td>\n",
       "      <td>Claire Gute</td>\n",
       "      <td>Consumer</td>\n",
       "      <td>United States</td>\n",
       "      <td>Henderson</td>\n",
       "      <td>Kentucky</td>\n",
       "      <td>42420.0</td>\n",
       "      <td>South</td>\n",
       "      <td>FUR-CH-10000454</td>\n",
       "      <td>Furniture</td>\n",
       "      <td>Chairs</td>\n",
       "      <td>Hon Deluxe Fabric Upholstered Stacking Chairs,...</td>\n",
       "      <td>731.94</td>\n",
       "    </tr>\n",
       "    <tr>\n",
       "      <th>2</th>\n",
       "      <td>3</td>\n",
       "      <td>CA-2017-138688</td>\n",
       "      <td>12/06/2017</td>\n",
       "      <td>16/06/2017</td>\n",
       "      <td>Second Class</td>\n",
       "      <td>DV-13045</td>\n",
       "      <td>Darrin Van Huff</td>\n",
       "      <td>Corporate</td>\n",
       "      <td>United States</td>\n",
       "      <td>Los Angeles</td>\n",
       "      <td>California</td>\n",
       "      <td>90036.0</td>\n",
       "      <td>West</td>\n",
       "      <td>OFF-LA-10000240</td>\n",
       "      <td>Office Supplies</td>\n",
       "      <td>Labels</td>\n",
       "      <td>Self-Adhesive Address Labels for Typewriters b...</td>\n",
       "      <td>14.62</td>\n",
       "    </tr>\n",
       "  </tbody>\n",
       "</table>\n",
       "</div>"
      ],
      "text/plain": [
       "   Row ID        Order ID  Order Date   Ship Date     Ship Mode Customer ID  \\\n",
       "0       1  CA-2017-152156  08/11/2017  11/11/2017  Second Class    CG-12520   \n",
       "1       2  CA-2017-152156  08/11/2017  11/11/2017  Second Class    CG-12520   \n",
       "2       3  CA-2017-138688  12/06/2017  16/06/2017  Second Class    DV-13045   \n",
       "\n",
       "     Customer Name    Segment        Country         City       State  \\\n",
       "0      Claire Gute   Consumer  United States    Henderson    Kentucky   \n",
       "1      Claire Gute   Consumer  United States    Henderson    Kentucky   \n",
       "2  Darrin Van Huff  Corporate  United States  Los Angeles  California   \n",
       "\n",
       "   Postal Code Region       Product ID         Category Sub-Category  \\\n",
       "0      42420.0  South  FUR-BO-10001798        Furniture    Bookcases   \n",
       "1      42420.0  South  FUR-CH-10000454        Furniture       Chairs   \n",
       "2      90036.0   West  OFF-LA-10000240  Office Supplies       Labels   \n",
       "\n",
       "                                        Product Name   Sales  \n",
       "0                  Bush Somerset Collection Bookcase  261.96  \n",
       "1  Hon Deluxe Fabric Upholstered Stacking Chairs,...  731.94  \n",
       "2  Self-Adhesive Address Labels for Typewriters b...   14.62  "
      ]
     },
     "execution_count": 3,
     "metadata": {},
     "output_type": "execute_result"
    }
   ],
   "source": [
    "sales_data.head(3)"
   ]
  },
  {
   "cell_type": "code",
   "execution_count": 4,
   "id": "1a7f6407",
   "metadata": {},
   "outputs": [
    {
     "name": "stdout",
     "output_type": "stream",
     "text": [
      "<class 'pandas.core.frame.DataFrame'>\n",
      "RangeIndex: 9800 entries, 0 to 9799\n",
      "Data columns (total 18 columns):\n",
      " #   Column         Non-Null Count  Dtype  \n",
      "---  ------         --------------  -----  \n",
      " 0   Row ID         9800 non-null   int64  \n",
      " 1   Order ID       9800 non-null   object \n",
      " 2   Order Date     9800 non-null   object \n",
      " 3   Ship Date      9800 non-null   object \n",
      " 4   Ship Mode      9800 non-null   object \n",
      " 5   Customer ID    9800 non-null   object \n",
      " 6   Customer Name  9800 non-null   object \n",
      " 7   Segment        9800 non-null   object \n",
      " 8   Country        9800 non-null   object \n",
      " 9   City           9800 non-null   object \n",
      " 10  State          9800 non-null   object \n",
      " 11  Postal Code    9789 non-null   float64\n",
      " 12  Region         9800 non-null   object \n",
      " 13  Product ID     9800 non-null   object \n",
      " 14  Category       9800 non-null   object \n",
      " 15  Sub-Category   9800 non-null   object \n",
      " 16  Product Name   9800 non-null   object \n",
      " 17  Sales          9800 non-null   float64\n",
      "dtypes: float64(2), int64(1), object(15)\n",
      "memory usage: 1.3+ MB\n"
     ]
    }
   ],
   "source": [
    "sales_data.info()"
   ]
  },
  {
   "cell_type": "code",
   "execution_count": 5,
   "id": "a266f50e",
   "metadata": {},
   "outputs": [
    {
     "data": {
      "text/plain": [
       "Index(['Row ID', 'Order ID', 'Order Date', 'Ship Date', 'Ship Mode',\n",
       "       'Customer ID', 'Customer Name', 'Segment', 'Country', 'City', 'State',\n",
       "       'Postal Code', 'Region', 'Product ID', 'Category', 'Sub-Category',\n",
       "       'Product Name', 'Sales'],\n",
       "      dtype='object')"
      ]
     },
     "execution_count": 5,
     "metadata": {},
     "output_type": "execute_result"
    }
   ],
   "source": [
    "sales_data.columns"
   ]
  },
  {
   "cell_type": "code",
   "execution_count": 6,
   "id": "3d032076",
   "metadata": {},
   "outputs": [
    {
     "data": {
      "text/plain": [
       "(9800, 18)"
      ]
     },
     "execution_count": 6,
     "metadata": {},
     "output_type": "execute_result"
    }
   ],
   "source": [
    "sales_data.shape"
   ]
  },
  {
   "cell_type": "markdown",
   "id": "9b314b44",
   "metadata": {},
   "source": [
    "### Top five(5) most sold products"
   ]
  },
  {
   "cell_type": "code",
   "execution_count": 7,
   "id": "e500b8d7",
   "metadata": {},
   "outputs": [],
   "source": [
    "product_sales = sales_data.groupby('Product Name').sum()['Sales'].reset_index()"
   ]
  },
  {
   "cell_type": "code",
   "execution_count": 8,
   "id": "afc4f0f3",
   "metadata": {},
   "outputs": [],
   "source": [
    "top5product= product_sales.sort_values('Sales', ascending =False)"
   ]
  },
  {
   "cell_type": "markdown",
   "id": "7fa8acc8",
   "metadata": {},
   "source": [
    "The top 5 products are listed below with Canon imageCLASS 2200 Advanced Copier being sold the most"
   ]
  },
  {
   "cell_type": "code",
   "execution_count": 9,
   "id": "a3e4122d",
   "metadata": {},
   "outputs": [
    {
     "data": {
      "text/html": [
       "<div>\n",
       "<style scoped>\n",
       "    .dataframe tbody tr th:only-of-type {\n",
       "        vertical-align: middle;\n",
       "    }\n",
       "\n",
       "    .dataframe tbody tr th {\n",
       "        vertical-align: top;\n",
       "    }\n",
       "\n",
       "    .dataframe thead th {\n",
       "        text-align: right;\n",
       "    }\n",
       "</style>\n",
       "<table border=\"1\" class=\"dataframe\">\n",
       "  <thead>\n",
       "    <tr style=\"text-align: right;\">\n",
       "      <th></th>\n",
       "      <th>Product Name</th>\n",
       "      <th>Sales</th>\n",
       "    </tr>\n",
       "  </thead>\n",
       "  <tbody>\n",
       "    <tr>\n",
       "      <th>404</th>\n",
       "      <td>Canon imageCLASS 2200 Advanced Copier</td>\n",
       "      <td>61599.824</td>\n",
       "    </tr>\n",
       "    <tr>\n",
       "      <th>649</th>\n",
       "      <td>Fellowes PB500 Electric Punch Plastic Comb Bin...</td>\n",
       "      <td>27453.384</td>\n",
       "    </tr>\n",
       "    <tr>\n",
       "      <th>444</th>\n",
       "      <td>Cisco TelePresence System EX90 Videoconferenci...</td>\n",
       "      <td>22638.480</td>\n",
       "    </tr>\n",
       "    <tr>\n",
       "      <th>785</th>\n",
       "      <td>HON 5400 Series Task Chairs for Big and Tall</td>\n",
       "      <td>21870.576</td>\n",
       "    </tr>\n",
       "    <tr>\n",
       "      <th>685</th>\n",
       "      <td>GBC DocuBind TL300 Electric Binding System</td>\n",
       "      <td>19823.479</td>\n",
       "    </tr>\n",
       "  </tbody>\n",
       "</table>\n",
       "</div>"
      ],
      "text/plain": [
       "                                          Product Name      Sales\n",
       "404              Canon imageCLASS 2200 Advanced Copier  61599.824\n",
       "649  Fellowes PB500 Electric Punch Plastic Comb Bin...  27453.384\n",
       "444  Cisco TelePresence System EX90 Videoconferenci...  22638.480\n",
       "785       HON 5400 Series Task Chairs for Big and Tall  21870.576\n",
       "685         GBC DocuBind TL300 Electric Binding System  19823.479"
      ]
     },
     "execution_count": 9,
     "metadata": {},
     "output_type": "execute_result"
    }
   ],
   "source": [
    "## top 5 most sold products\n",
    "top5product.head(5)\n"
   ]
  },
  {
   "cell_type": "markdown",
   "id": "44888f8f",
   "metadata": {},
   "source": [
    "## What category of product sells the most?"
   ]
  },
  {
   "cell_type": "code",
   "execution_count": 10,
   "id": "8f3e0c40",
   "metadata": {},
   "outputs": [
    {
     "data": {
      "text/html": [
       "<div>\n",
       "<style scoped>\n",
       "    .dataframe tbody tr th:only-of-type {\n",
       "        vertical-align: middle;\n",
       "    }\n",
       "\n",
       "    .dataframe tbody tr th {\n",
       "        vertical-align: top;\n",
       "    }\n",
       "\n",
       "    .dataframe thead th {\n",
       "        text-align: right;\n",
       "    }\n",
       "</style>\n",
       "<table border=\"1\" class=\"dataframe\">\n",
       "  <thead>\n",
       "    <tr style=\"text-align: right;\">\n",
       "      <th></th>\n",
       "      <th>Row ID</th>\n",
       "      <th>Order ID</th>\n",
       "      <th>Order Date</th>\n",
       "      <th>Ship Date</th>\n",
       "      <th>Ship Mode</th>\n",
       "      <th>Customer ID</th>\n",
       "      <th>Customer Name</th>\n",
       "      <th>Segment</th>\n",
       "      <th>Country</th>\n",
       "      <th>City</th>\n",
       "      <th>State</th>\n",
       "      <th>Postal Code</th>\n",
       "      <th>Region</th>\n",
       "      <th>Product ID</th>\n",
       "      <th>Category</th>\n",
       "      <th>Sub-Category</th>\n",
       "      <th>Product Name</th>\n",
       "      <th>Sales</th>\n",
       "    </tr>\n",
       "  </thead>\n",
       "  <tbody>\n",
       "    <tr>\n",
       "      <th>0</th>\n",
       "      <td>1</td>\n",
       "      <td>CA-2017-152156</td>\n",
       "      <td>08/11/2017</td>\n",
       "      <td>11/11/2017</td>\n",
       "      <td>Second Class</td>\n",
       "      <td>CG-12520</td>\n",
       "      <td>Claire Gute</td>\n",
       "      <td>Consumer</td>\n",
       "      <td>United States</td>\n",
       "      <td>Henderson</td>\n",
       "      <td>Kentucky</td>\n",
       "      <td>42420.0</td>\n",
       "      <td>South</td>\n",
       "      <td>FUR-BO-10001798</td>\n",
       "      <td>Furniture</td>\n",
       "      <td>Bookcases</td>\n",
       "      <td>Bush Somerset Collection Bookcase</td>\n",
       "      <td>261.9600</td>\n",
       "    </tr>\n",
       "    <tr>\n",
       "      <th>1</th>\n",
       "      <td>2</td>\n",
       "      <td>CA-2017-152156</td>\n",
       "      <td>08/11/2017</td>\n",
       "      <td>11/11/2017</td>\n",
       "      <td>Second Class</td>\n",
       "      <td>CG-12520</td>\n",
       "      <td>Claire Gute</td>\n",
       "      <td>Consumer</td>\n",
       "      <td>United States</td>\n",
       "      <td>Henderson</td>\n",
       "      <td>Kentucky</td>\n",
       "      <td>42420.0</td>\n",
       "      <td>South</td>\n",
       "      <td>FUR-CH-10000454</td>\n",
       "      <td>Furniture</td>\n",
       "      <td>Chairs</td>\n",
       "      <td>Hon Deluxe Fabric Upholstered Stacking Chairs,...</td>\n",
       "      <td>731.9400</td>\n",
       "    </tr>\n",
       "    <tr>\n",
       "      <th>2</th>\n",
       "      <td>3</td>\n",
       "      <td>CA-2017-138688</td>\n",
       "      <td>12/06/2017</td>\n",
       "      <td>16/06/2017</td>\n",
       "      <td>Second Class</td>\n",
       "      <td>DV-13045</td>\n",
       "      <td>Darrin Van Huff</td>\n",
       "      <td>Corporate</td>\n",
       "      <td>United States</td>\n",
       "      <td>Los Angeles</td>\n",
       "      <td>California</td>\n",
       "      <td>90036.0</td>\n",
       "      <td>West</td>\n",
       "      <td>OFF-LA-10000240</td>\n",
       "      <td>Office Supplies</td>\n",
       "      <td>Labels</td>\n",
       "      <td>Self-Adhesive Address Labels for Typewriters b...</td>\n",
       "      <td>14.6200</td>\n",
       "    </tr>\n",
       "    <tr>\n",
       "      <th>3</th>\n",
       "      <td>4</td>\n",
       "      <td>US-2016-108966</td>\n",
       "      <td>11/10/2016</td>\n",
       "      <td>18/10/2016</td>\n",
       "      <td>Standard Class</td>\n",
       "      <td>SO-20335</td>\n",
       "      <td>Sean O'Donnell</td>\n",
       "      <td>Consumer</td>\n",
       "      <td>United States</td>\n",
       "      <td>Fort Lauderdale</td>\n",
       "      <td>Florida</td>\n",
       "      <td>33311.0</td>\n",
       "      <td>South</td>\n",
       "      <td>FUR-TA-10000577</td>\n",
       "      <td>Furniture</td>\n",
       "      <td>Tables</td>\n",
       "      <td>Bretford CR4500 Series Slim Rectangular Table</td>\n",
       "      <td>957.5775</td>\n",
       "    </tr>\n",
       "    <tr>\n",
       "      <th>4</th>\n",
       "      <td>5</td>\n",
       "      <td>US-2016-108966</td>\n",
       "      <td>11/10/2016</td>\n",
       "      <td>18/10/2016</td>\n",
       "      <td>Standard Class</td>\n",
       "      <td>SO-20335</td>\n",
       "      <td>Sean O'Donnell</td>\n",
       "      <td>Consumer</td>\n",
       "      <td>United States</td>\n",
       "      <td>Fort Lauderdale</td>\n",
       "      <td>Florida</td>\n",
       "      <td>33311.0</td>\n",
       "      <td>South</td>\n",
       "      <td>OFF-ST-10000760</td>\n",
       "      <td>Office Supplies</td>\n",
       "      <td>Storage</td>\n",
       "      <td>Eldon Fold 'N Roll Cart System</td>\n",
       "      <td>22.3680</td>\n",
       "    </tr>\n",
       "  </tbody>\n",
       "</table>\n",
       "</div>"
      ],
      "text/plain": [
       "   Row ID        Order ID  Order Date   Ship Date       Ship Mode Customer ID  \\\n",
       "0       1  CA-2017-152156  08/11/2017  11/11/2017    Second Class    CG-12520   \n",
       "1       2  CA-2017-152156  08/11/2017  11/11/2017    Second Class    CG-12520   \n",
       "2       3  CA-2017-138688  12/06/2017  16/06/2017    Second Class    DV-13045   \n",
       "3       4  US-2016-108966  11/10/2016  18/10/2016  Standard Class    SO-20335   \n",
       "4       5  US-2016-108966  11/10/2016  18/10/2016  Standard Class    SO-20335   \n",
       "\n",
       "     Customer Name    Segment        Country             City       State  \\\n",
       "0      Claire Gute   Consumer  United States        Henderson    Kentucky   \n",
       "1      Claire Gute   Consumer  United States        Henderson    Kentucky   \n",
       "2  Darrin Van Huff  Corporate  United States      Los Angeles  California   \n",
       "3   Sean O'Donnell   Consumer  United States  Fort Lauderdale     Florida   \n",
       "4   Sean O'Donnell   Consumer  United States  Fort Lauderdale     Florida   \n",
       "\n",
       "   Postal Code Region       Product ID         Category Sub-Category  \\\n",
       "0      42420.0  South  FUR-BO-10001798        Furniture    Bookcases   \n",
       "1      42420.0  South  FUR-CH-10000454        Furniture       Chairs   \n",
       "2      90036.0   West  OFF-LA-10000240  Office Supplies       Labels   \n",
       "3      33311.0  South  FUR-TA-10000577        Furniture       Tables   \n",
       "4      33311.0  South  OFF-ST-10000760  Office Supplies      Storage   \n",
       "\n",
       "                                        Product Name     Sales  \n",
       "0                  Bush Somerset Collection Bookcase  261.9600  \n",
       "1  Hon Deluxe Fabric Upholstered Stacking Chairs,...  731.9400  \n",
       "2  Self-Adhesive Address Labels for Typewriters b...   14.6200  \n",
       "3      Bretford CR4500 Series Slim Rectangular Table  957.5775  \n",
       "4                     Eldon Fold 'N Roll Cart System   22.3680  "
      ]
     },
     "execution_count": 10,
     "metadata": {},
     "output_type": "execute_result"
    }
   ],
   "source": [
    "sales_data.head()"
   ]
  },
  {
   "cell_type": "code",
   "execution_count": 11,
   "id": "c541556a",
   "metadata": {},
   "outputs": [],
   "source": [
    "sales_category= sales_data.groupby('Category').sum()['Sales'].reset_index()"
   ]
  },
  {
   "cell_type": "code",
   "execution_count": 12,
   "id": "138d637f",
   "metadata": {},
   "outputs": [
    {
     "data": {
      "text/html": [
       "<div>\n",
       "<style scoped>\n",
       "    .dataframe tbody tr th:only-of-type {\n",
       "        vertical-align: middle;\n",
       "    }\n",
       "\n",
       "    .dataframe tbody tr th {\n",
       "        vertical-align: top;\n",
       "    }\n",
       "\n",
       "    .dataframe thead th {\n",
       "        text-align: right;\n",
       "    }\n",
       "</style>\n",
       "<table border=\"1\" class=\"dataframe\">\n",
       "  <thead>\n",
       "    <tr style=\"text-align: right;\">\n",
       "      <th></th>\n",
       "      <th>Category</th>\n",
       "      <th>Sales</th>\n",
       "    </tr>\n",
       "  </thead>\n",
       "  <tbody>\n",
       "    <tr>\n",
       "      <th>0</th>\n",
       "      <td>Furniture</td>\n",
       "      <td>728658.5757</td>\n",
       "    </tr>\n",
       "    <tr>\n",
       "      <th>1</th>\n",
       "      <td>Office Supplies</td>\n",
       "      <td>705422.3340</td>\n",
       "    </tr>\n",
       "    <tr>\n",
       "      <th>2</th>\n",
       "      <td>Technology</td>\n",
       "      <td>827455.8730</td>\n",
       "    </tr>\n",
       "  </tbody>\n",
       "</table>\n",
       "</div>"
      ],
      "text/plain": [
       "          Category        Sales\n",
       "0        Furniture  728658.5757\n",
       "1  Office Supplies  705422.3340\n",
       "2       Technology  827455.8730"
      ]
     },
     "execution_count": 12,
     "metadata": {},
     "output_type": "execute_result"
    }
   ],
   "source": [
    "sales_category.head()"
   ]
  },
  {
   "cell_type": "code",
   "execution_count": 13,
   "id": "be8d3310",
   "metadata": {},
   "outputs": [
    {
     "data": {
      "image/png": "[encoded data removed]",
      "text/plain": [
       "<Figure size 360x360 with 1 Axes>"
      ]
     },
     "metadata": {},
     "output_type": "display_data"
    }
   ],
   "source": [
    "plt.figure(figsize= (5,5))\n",
    "plt.title('Product Categories', fontsize= 15)\n",
    "labels = ['Furniture','Office Supplies', 'Technology']\n",
    "colors = sns.color_palette('pastel')\n",
    "plt.pie(sales_category.Sales, labels=labels, colors= colors, autopct= '%0.f%%')\n",
    "plt.show()"
   ]
  },
  {
   "cell_type": "markdown",
   "id": "64b3f526",
   "metadata": {},
   "source": [
    "37% of the total sales recored were technology products."
   ]
  },
  {
   "cell_type": "markdown",
   "id": "35c959ed",
   "metadata": {},
   "source": [
    "## Top performing sub- categorised products"
   ]
  },
  {
   "cell_type": "code",
   "execution_count": 14,
   "id": "20099396",
   "metadata": {},
   "outputs": [],
   "source": [
    "sales_subcategory = sales_data.groupby('Sub-Category').sum()['Sales'].reset_index()\n",
    "sales_subcategory = sales_subcategory.sort_values('Sales', ascending = False)"
   ]
  },
  {
   "cell_type": "code",
   "execution_count": 15,
   "id": "ac6b8423",
   "metadata": {},
   "outputs": [],
   "source": [
    "x= sales_subcategory['Sub-Category']\n",
    "y= sales_subcategory['Sales']"
   ]
  },
  {
   "cell_type": "code",
   "execution_count": 16,
   "id": "3e83edec",
   "metadata": {},
   "outputs": [
    {
     "data": {
      "image/png": "[encoded data removed]",
      "text/plain": [
       "<Figure size 720x288 with 1 Axes>"
      ]
     },
     "metadata": {
      "needs_background": "light"
     },
     "output_type": "display_data"
    }
   ],
   "source": [
    "plt.figure(figsize=(10,4))\n",
    "plt.title('Top performing sub-categorised Products', fontsize = 17)\n",
    "plt.xticks(rotation= 90)\n",
    "plt.xlabel('City', fontsize= 12)\n",
    "plt.ylabel('Sales', fontsize= 12)\n",
    "sns.barplot(x=x,y=y)\n",
    "plt.show()"
   ]
  },
  {
   "cell_type": "markdown",
   "id": "b648d9a6",
   "metadata": {},
   "source": [
    "* Phones are the most sold sub categorised product "
   ]
  },
  {
   "cell_type": "markdown",
   "id": "8f380e22",
   "metadata": {},
   "source": [
    "### Further analysis on the most sold product (Phones)\n"
   ]
  },
  {
   "cell_type": "code",
   "execution_count": 17,
   "id": "984cc45e",
   "metadata": {},
   "outputs": [],
   "source": [
    "## filtering sales data on only phones\n",
    "phone_sales = sales_data.loc[sales_data['Sub-Category'] == 'Phones']"
   ]
  },
  {
   "cell_type": "code",
   "execution_count": 18,
   "id": "fc566b34",
   "metadata": {},
   "outputs": [
    {
     "data": {
      "text/html": [
       "<div>\n",
       "<style scoped>\n",
       "    .dataframe tbody tr th:only-of-type {\n",
       "        vertical-align: middle;\n",
       "    }\n",
       "\n",
       "    .dataframe tbody tr th {\n",
       "        vertical-align: top;\n",
       "    }\n",
       "\n",
       "    .dataframe thead th {\n",
       "        text-align: right;\n",
       "    }\n",
       "</style>\n",
       "<table border=\"1\" class=\"dataframe\">\n",
       "  <thead>\n",
       "    <tr style=\"text-align: right;\">\n",
       "      <th></th>\n",
       "      <th>Product Name</th>\n",
       "      <th>Sales</th>\n",
       "    </tr>\n",
       "  </thead>\n",
       "  <tbody>\n",
       "    <tr>\n",
       "      <th>0</th>\n",
       "      <td>ARKON Windshield Dashboard Air Vent Car Mount ...</td>\n",
       "      <td>149.160</td>\n",
       "    </tr>\n",
       "    <tr>\n",
       "      <th>1</th>\n",
       "      <td>AT&amp;T 1070 Corded Phone</td>\n",
       "      <td>1070.304</td>\n",
       "    </tr>\n",
       "    <tr>\n",
       "      <th>2</th>\n",
       "      <td>AT&amp;T 1080 Corded phone</td>\n",
       "      <td>1945.258</td>\n",
       "    </tr>\n",
       "    <tr>\n",
       "      <th>3</th>\n",
       "      <td>AT&amp;T 1080 Phone</td>\n",
       "      <td>1589.084</td>\n",
       "    </tr>\n",
       "    <tr>\n",
       "      <th>4</th>\n",
       "      <td>AT&amp;T 17929 Lendline Telephone</td>\n",
       "      <td>1339.104</td>\n",
       "    </tr>\n",
       "    <tr>\n",
       "      <th>5</th>\n",
       "      <td>AT&amp;T 841000 Phone</td>\n",
       "      <td>1614.600</td>\n",
       "    </tr>\n",
       "    <tr>\n",
       "      <th>6</th>\n",
       "      <td>AT&amp;T CL2909</td>\n",
       "      <td>755.940</td>\n",
       "    </tr>\n",
       "    <tr>\n",
       "      <th>7</th>\n",
       "      <td>AT&amp;T CL82213</td>\n",
       "      <td>481.234</td>\n",
       "    </tr>\n",
       "    <tr>\n",
       "      <th>8</th>\n",
       "      <td>AT&amp;T CL83451 4-Handset Telephone</td>\n",
       "      <td>1936.306</td>\n",
       "    </tr>\n",
       "    <tr>\n",
       "      <th>9</th>\n",
       "      <td>AT&amp;T EL51110 DECT</td>\n",
       "      <td>377.970</td>\n",
       "    </tr>\n",
       "  </tbody>\n",
       "</table>\n",
       "</div>"
      ],
      "text/plain": [
       "                                        Product Name     Sales\n",
       "0  ARKON Windshield Dashboard Air Vent Car Mount ...   149.160\n",
       "1                             AT&T 1070 Corded Phone  1070.304\n",
       "2                             AT&T 1080 Corded phone  1945.258\n",
       "3                                    AT&T 1080 Phone  1589.084\n",
       "4                      AT&T 17929 Lendline Telephone  1339.104\n",
       "5                                  AT&T 841000 Phone  1614.600\n",
       "6                                        AT&T CL2909   755.940\n",
       "7                                       AT&T CL82213   481.234\n",
       "8                   AT&T CL83451 4-Handset Telephone  1936.306\n",
       "9                                  AT&T EL51110 DECT   377.970"
      ]
     },
     "execution_count": 18,
     "metadata": {},
     "output_type": "execute_result"
    }
   ],
   "source": [
    "top10phones= phone_sales.groupby('Product Name').sum()['Sales'].reset_index().head(10)\n",
    "\n",
    "top10phones.head(100)"
   ]
  },
  {
   "cell_type": "code",
   "execution_count": 19,
   "id": "628a6837",
   "metadata": {},
   "outputs": [],
   "source": [
    "top10phones= top10phones.sort_values('Sales', ascending = False)"
   ]
  },
  {
   "cell_type": "code",
   "execution_count": 20,
   "id": "abb55b49",
   "metadata": {},
   "outputs": [],
   "source": [
    "x=top10phones['Product Name']\n",
    "y=top10phones['Sales']"
   ]
  },
  {
   "cell_type": "code",
   "execution_count": 21,
   "id": "0b46200f",
   "metadata": {},
   "outputs": [
    {
     "data": {
      "image/png": "[encoded data removed]",
      "text/plain": [
       "<Figure size 720x288 with 1 Axes>"
      ]
     },
     "metadata": {
      "needs_background": "light"
     },
     "output_type": "display_data"
    }
   ],
   "source": [
    "plt.figure(figsize=(10,4))\n",
    "plt.title('Top 10 perfoming phones', fontsize = 17)\n",
    "plt.xticks(rotation= 90)\n",
    "plt.xlabel('Phones', fontsize= 12)\n",
    "plt.ylabel('Sales', fontsize= 12)\n",
    "sns.barplot(x=x,y=y)\n",
    "plt.show()"
   ]
  },
  {
   "cell_type": "markdown",
   "id": "2e927093",
   "metadata": {},
   "source": [
    "* AT&T 1080 Corded phone generated the highest revenue"
   ]
  },
  {
   "cell_type": "markdown",
   "id": "caf313d7",
   "metadata": {},
   "source": [
    "## Top five (10) performing cities in terms of sales."
   ]
  },
  {
   "cell_type": "code",
   "execution_count": 22,
   "id": "cf8bdb34",
   "metadata": {},
   "outputs": [],
   "source": [
    "city_sales =sales_data.groupby('City').sum()['Sales'].reset_index()"
   ]
  },
  {
   "cell_type": "code",
   "execution_count": 23,
   "id": "8ac25da1",
   "metadata": {},
   "outputs": [],
   "source": [
    "top10city= city_sales.sort_values('Sales', ascending = False).head(10)"
   ]
  },
  {
   "cell_type": "markdown",
   "id": "a07def82",
   "metadata": {},
   "source": [
    "* The top ten (10) performing cities are listed above with New York City topping in terms of sales"
   ]
  },
  {
   "cell_type": "code",
   "execution_count": 24,
   "id": "e3902405",
   "metadata": {},
   "outputs": [
    {
     "data": {
      "text/html": [
       "<div>\n",
       "<style scoped>\n",
       "    .dataframe tbody tr th:only-of-type {\n",
       "        vertical-align: middle;\n",
       "    }\n",
       "\n",
       "    .dataframe tbody tr th {\n",
       "        vertical-align: top;\n",
       "    }\n",
       "\n",
       "    .dataframe thead th {\n",
       "        text-align: right;\n",
       "    }\n",
       "</style>\n",
       "<table border=\"1\" class=\"dataframe\">\n",
       "  <thead>\n",
       "    <tr style=\"text-align: right;\">\n",
       "      <th></th>\n",
       "      <th>City</th>\n",
       "      <th>Sales</th>\n",
       "    </tr>\n",
       "  </thead>\n",
       "  <tbody>\n",
       "    <tr>\n",
       "      <th>327</th>\n",
       "      <td>New York City</td>\n",
       "      <td>252462.5470</td>\n",
       "    </tr>\n",
       "    <tr>\n",
       "      <th>265</th>\n",
       "      <td>Los Angeles</td>\n",
       "      <td>173420.1810</td>\n",
       "    </tr>\n",
       "    <tr>\n",
       "      <th>450</th>\n",
       "      <td>Seattle</td>\n",
       "      <td>116106.3220</td>\n",
       "    </tr>\n",
       "    <tr>\n",
       "      <th>436</th>\n",
       "      <td>San Francisco</td>\n",
       "      <td>109041.1200</td>\n",
       "    </tr>\n",
       "    <tr>\n",
       "      <th>372</th>\n",
       "      <td>Philadelphia</td>\n",
       "      <td>108841.7490</td>\n",
       "    </tr>\n",
       "    <tr>\n",
       "      <th>207</th>\n",
       "      <td>Houston</td>\n",
       "      <td>63956.1428</td>\n",
       "    </tr>\n",
       "    <tr>\n",
       "      <th>80</th>\n",
       "      <td>Chicago</td>\n",
       "      <td>47820.1330</td>\n",
       "    </tr>\n",
       "    <tr>\n",
       "      <th>435</th>\n",
       "      <td>San Diego</td>\n",
       "      <td>47521.0290</td>\n",
       "    </tr>\n",
       "    <tr>\n",
       "      <th>216</th>\n",
       "      <td>Jacksonville</td>\n",
       "      <td>44713.1830</td>\n",
       "    </tr>\n",
       "    <tr>\n",
       "      <th>123</th>\n",
       "      <td>Detroit</td>\n",
       "      <td>42446.9440</td>\n",
       "    </tr>\n",
       "  </tbody>\n",
       "</table>\n",
       "</div>"
      ],
      "text/plain": [
       "              City        Sales\n",
       "327  New York City  252462.5470\n",
       "265    Los Angeles  173420.1810\n",
       "450        Seattle  116106.3220\n",
       "436  San Francisco  109041.1200\n",
       "372   Philadelphia  108841.7490\n",
       "207        Houston   63956.1428\n",
       "80         Chicago   47820.1330\n",
       "435      San Diego   47521.0290\n",
       "216   Jacksonville   44713.1830\n",
       "123        Detroit   42446.9440"
      ]
     },
     "execution_count": 24,
     "metadata": {},
     "output_type": "execute_result"
    }
   ],
   "source": [
    "## comparing the top ten cities in terms of sales\n",
    "\n",
    "top10city.head(10)"
   ]
  },
  {
   "cell_type": "code",
   "execution_count": 25,
   "id": "7f90f591",
   "metadata": {},
   "outputs": [],
   "source": [
    "x= top10city['City']\n",
    "y= top10city['Sales']"
   ]
  },
  {
   "cell_type": "code",
   "execution_count": 26,
   "id": "fba17778",
   "metadata": {},
   "outputs": [
    {
     "data": {
      "image/png": "[encoded data removed]",
      "text/plain": [
       "<Figure size 648x288 with 1 Axes>"
      ]
     },
     "metadata": {
      "needs_background": "light"
     },
     "output_type": "display_data"
    }
   ],
   "source": [
    "plt.figure(figsize=(9,4))\n",
    "plt.title('Top 10 performing cities in terms of sales', fontsize = 17)\n",
    "plt.xticks(rotation= 90)\n",
    "plt.xlabel('City', fontsize= 12)\n",
    "plt.ylabel('Sales', fontsize= 12)\n",
    "sns.barplot(x=x,y=y)\n",
    "plt.show()"
   ]
  },
  {
   "cell_type": "markdown",
   "id": "1d8bb179",
   "metadata": {},
   "source": [
    "## Preferred mode of shipment"
   ]
  },
  {
   "cell_type": "code",
   "execution_count": 27,
   "id": "10cc7dbf",
   "metadata": {},
   "outputs": [
    {
     "data": {
      "text/html": [
       "<div>\n",
       "<style scoped>\n",
       "    .dataframe tbody tr th:only-of-type {\n",
       "        vertical-align: middle;\n",
       "    }\n",
       "\n",
       "    .dataframe tbody tr th {\n",
       "        vertical-align: top;\n",
       "    }\n",
       "\n",
       "    .dataframe thead th {\n",
       "        text-align: right;\n",
       "    }\n",
       "</style>\n",
       "<table border=\"1\" class=\"dataframe\">\n",
       "  <thead>\n",
       "    <tr style=\"text-align: right;\">\n",
       "      <th></th>\n",
       "      <th>Ship Mode</th>\n",
       "      <th>Order ID</th>\n",
       "    </tr>\n",
       "  </thead>\n",
       "  <tbody>\n",
       "    <tr>\n",
       "      <th>0</th>\n",
       "      <td>First Class</td>\n",
       "      <td>1501</td>\n",
       "    </tr>\n",
       "    <tr>\n",
       "      <th>1</th>\n",
       "      <td>Same Day</td>\n",
       "      <td>538</td>\n",
       "    </tr>\n",
       "    <tr>\n",
       "      <th>2</th>\n",
       "      <td>Second Class</td>\n",
       "      <td>1902</td>\n",
       "    </tr>\n",
       "    <tr>\n",
       "      <th>3</th>\n",
       "      <td>Standard Class</td>\n",
       "      <td>5859</td>\n",
       "    </tr>\n",
       "  </tbody>\n",
       "</table>\n",
       "</div>"
      ],
      "text/plain": [
       "        Ship Mode  Order ID\n",
       "0     First Class      1501\n",
       "1        Same Day       538\n",
       "2    Second Class      1902\n",
       "3  Standard Class      5859"
      ]
     },
     "execution_count": 27,
     "metadata": {},
     "output_type": "execute_result"
    }
   ],
   "source": [
    "preferred_ship =sales_data.groupby('Ship Mode').count()['Order ID'].reset_index()\n",
    "\n",
    "preferred_ship.head()"
   ]
  },
  {
   "cell_type": "code",
   "execution_count": 28,
   "id": "10993122",
   "metadata": {},
   "outputs": [
    {
     "data": {
      "image/png": "[encoded data removed]",
      "text/plain": [
       "<Figure size 432x432 with 1 Axes>"
      ]
     },
     "metadata": {},
     "output_type": "display_data"
    }
   ],
   "source": [
    "plt.figure(figsize= (6,6))\n",
    "plt.title('Preferred Shipment', fontsize= 15)\n",
    "labels = ['First Class','Same Day', 'Second Class','Standard Class']\n",
    "colors = sns.color_palette('muted')\n",
    "plt.pie(preferred_ship['Order ID'], labels=labels, colors= colors, autopct= '%0.f%%')\n",
    "plt.show()"
   ]
  },
  {
   "cell_type": "markdown",
   "id": "4a368b50",
   "metadata": {},
   "source": [
    "* Clearly, the preferred mode of shipment for most customers is 'Standard Class'\n",
    "\n",
    "* Only a 5% of customers would opt for the 'Same Day' shipment mode probably because of the extra cost involved.\n",
    "* Most customers don't want to incurr extra cost for shipping their products."
   ]
  },
  {
   "cell_type": "markdown",
   "id": "4985b8f8",
   "metadata": {},
   "source": [
    "## Sales trend over the three (3) years\n"
   ]
  },
  {
   "cell_type": "code",
   "execution_count": 29,
   "id": "76849b49",
   "metadata": {},
   "outputs": [],
   "source": [
    "## created a new column as Order Month (m/Y)\n",
    "sales_data['Order Date'] = pd.to_datetime(sales_data['Order Date'], format = '%d/%m/%Y')\n",
    "sales_data['Order Month'] = sales_data['Order Date'].dt.to_period('M')\n",
    "sales_data = sales_data.sort_values('Order Month', ascending = True)"
   ]
  },
  {
   "cell_type": "code",
   "execution_count": 30,
   "id": "fd36c09b",
   "metadata": {},
   "outputs": [
    {
     "data": {
      "text/html": [
       "<div>\n",
       "<style scoped>\n",
       "    .dataframe tbody tr th:only-of-type {\n",
       "        vertical-align: middle;\n",
       "    }\n",
       "\n",
       "    .dataframe tbody tr th {\n",
       "        vertical-align: top;\n",
       "    }\n",
       "\n",
       "    .dataframe thead th {\n",
       "        text-align: right;\n",
       "    }\n",
       "</style>\n",
       "<table border=\"1\" class=\"dataframe\">\n",
       "  <thead>\n",
       "    <tr style=\"text-align: right;\">\n",
       "      <th></th>\n",
       "      <th>Order Month</th>\n",
       "      <th>Sales</th>\n",
       "    </tr>\n",
       "  </thead>\n",
       "  <tbody>\n",
       "    <tr>\n",
       "      <th>0</th>\n",
       "      <td>01-2015</td>\n",
       "      <td>6217.277</td>\n",
       "    </tr>\n",
       "    <tr>\n",
       "      <th>1</th>\n",
       "      <td>02-2015</td>\n",
       "      <td>1839.658</td>\n",
       "    </tr>\n",
       "    <tr>\n",
       "      <th>2</th>\n",
       "      <td>03-2015</td>\n",
       "      <td>14243.368</td>\n",
       "    </tr>\n",
       "    <tr>\n",
       "      <th>3</th>\n",
       "      <td>04-2015</td>\n",
       "      <td>7944.837</td>\n",
       "    </tr>\n",
       "    <tr>\n",
       "      <th>4</th>\n",
       "      <td>05-2015</td>\n",
       "      <td>6912.787</td>\n",
       "    </tr>\n",
       "  </tbody>\n",
       "</table>\n",
       "</div>"
      ],
      "text/plain": [
       "  Order Month      Sales\n",
       "0     01-2015   6217.277\n",
       "1     02-2015   1839.658\n",
       "2     03-2015  14243.368\n",
       "3     04-2015   7944.837\n",
       "4     05-2015   6912.787"
      ]
     },
     "execution_count": 30,
     "metadata": {},
     "output_type": "execute_result"
    }
   ],
   "source": [
    "## furniture supplies data\n",
    "\n",
    "furniture_sales = sales_data.loc[sales_data['Category'] == 'Furniture',['Order Month','Sales']].reset_index(drop= True)\n",
    "furniture_sales = furniture_sales.groupby('Order Month').sum().reset_index()\n",
    "furniture_sales['Order Month'] = furniture_sales['Order Month'].dt.strftime('%m-%Y')\n",
    "furniture_sales.head()"
   ]
  },
  {
   "cell_type": "code",
   "execution_count": 31,
   "id": "e426ce9e",
   "metadata": {},
   "outputs": [
    {
     "data": {
      "text/html": [
       "<div>\n",
       "<style scoped>\n",
       "    .dataframe tbody tr th:only-of-type {\n",
       "        vertical-align: middle;\n",
       "    }\n",
       "\n",
       "    .dataframe tbody tr th {\n",
       "        vertical-align: top;\n",
       "    }\n",
       "\n",
       "    .dataframe thead th {\n",
       "        text-align: right;\n",
       "    }\n",
       "</style>\n",
       "<table border=\"1\" class=\"dataframe\">\n",
       "  <thead>\n",
       "    <tr style=\"text-align: right;\">\n",
       "      <th></th>\n",
       "      <th>Order Month</th>\n",
       "      <th>Sales</th>\n",
       "    </tr>\n",
       "  </thead>\n",
       "  <tbody>\n",
       "    <tr>\n",
       "      <th>0</th>\n",
       "      <td>01-2015</td>\n",
       "      <td>4845.140</td>\n",
       "    </tr>\n",
       "    <tr>\n",
       "      <th>1</th>\n",
       "      <td>02-2015</td>\n",
       "      <td>1071.724</td>\n",
       "    </tr>\n",
       "    <tr>\n",
       "      <th>2</th>\n",
       "      <td>03-2015</td>\n",
       "      <td>8602.455</td>\n",
       "    </tr>\n",
       "    <tr>\n",
       "      <th>3</th>\n",
       "      <td>04-2015</td>\n",
       "      <td>10988.874</td>\n",
       "    </tr>\n",
       "    <tr>\n",
       "      <th>4</th>\n",
       "      <td>05-2015</td>\n",
       "      <td>7131.640</td>\n",
       "    </tr>\n",
       "  </tbody>\n",
       "</table>\n",
       "</div>"
      ],
      "text/plain": [
       "  Order Month      Sales\n",
       "0     01-2015   4845.140\n",
       "1     02-2015   1071.724\n",
       "2     03-2015   8602.455\n",
       "3     04-2015  10988.874\n",
       "4     05-2015   7131.640"
      ]
     },
     "execution_count": 31,
     "metadata": {},
     "output_type": "execute_result"
    }
   ],
   "source": [
    "## office supplies data\n",
    "officesupplies_sales = sales_data.loc[sales_data['Category'] == 'Office Supplies',['Order Month','Sales']].reset_index(drop= True)\n",
    "officesupplies_sales = officesupplies_sales.groupby('Order Month').sum().reset_index()\n",
    "officesupplies_sales['Order Month'] = officesupplies_sales['Order Month'].dt.strftime('%m-%Y')\n",
    "officesupplies_sales.head(5)"
   ]
  },
  {
   "cell_type": "code",
   "execution_count": 32,
   "id": "079bb59a",
   "metadata": {},
   "outputs": [
    {
     "data": {
      "text/html": [
       "<div>\n",
       "<style scoped>\n",
       "    .dataframe tbody tr th:only-of-type {\n",
       "        vertical-align: middle;\n",
       "    }\n",
       "\n",
       "    .dataframe tbody tr th {\n",
       "        vertical-align: top;\n",
       "    }\n",
       "\n",
       "    .dataframe thead th {\n",
       "        text-align: right;\n",
       "    }\n",
       "</style>\n",
       "<table border=\"1\" class=\"dataframe\">\n",
       "  <thead>\n",
       "    <tr style=\"text-align: right;\">\n",
       "      <th></th>\n",
       "      <th>Order Month</th>\n",
       "      <th>Sales</th>\n",
       "    </tr>\n",
       "  </thead>\n",
       "  <tbody>\n",
       "    <tr>\n",
       "      <th>0</th>\n",
       "      <td>01-2015</td>\n",
       "      <td>3143.290</td>\n",
       "    </tr>\n",
       "    <tr>\n",
       "      <th>1</th>\n",
       "      <td>02-2015</td>\n",
       "      <td>1608.510</td>\n",
       "    </tr>\n",
       "    <tr>\n",
       "      <th>2</th>\n",
       "      <td>03-2015</td>\n",
       "      <td>32359.974</td>\n",
       "    </tr>\n",
       "    <tr>\n",
       "      <th>3</th>\n",
       "      <td>04-2015</td>\n",
       "      <td>8973.144</td>\n",
       "    </tr>\n",
       "    <tr>\n",
       "      <th>4</th>\n",
       "      <td>05-2015</td>\n",
       "      <td>9599.876</td>\n",
       "    </tr>\n",
       "  </tbody>\n",
       "</table>\n",
       "</div>"
      ],
      "text/plain": [
       "  Order Month      Sales\n",
       "0     01-2015   3143.290\n",
       "1     02-2015   1608.510\n",
       "2     03-2015  32359.974\n",
       "3     04-2015   8973.144\n",
       "4     05-2015   9599.876"
      ]
     },
     "execution_count": 32,
     "metadata": {},
     "output_type": "execute_result"
    }
   ],
   "source": [
    "## technology data\n",
    "technology_sales = sales_data.loc[sales_data['Category'] == 'Technology',['Order Month','Sales']].reset_index(drop= True)\n",
    "technology_sales = technology_sales.groupby('Order Month').sum().reset_index()\n",
    "technology_sales['Order Month'] = technology_sales['Order Month'].dt.strftime('%m-%Y')\n",
    "\n",
    "technology_sales.head(5)"
   ]
  },
  {
   "cell_type": "code",
   "execution_count": 33,
   "id": "bd15f8fa",
   "metadata": {},
   "outputs": [],
   "source": [
    "a = furniture_sales['Order Month']\n",
    "b = furniture_sales['Sales']\n",
    "\n",
    "c = officesupplies_sales['Order Month']\n",
    "d = officesupplies_sales['Sales']\n",
    "\n",
    "e = technology_sales['Order Month']\n",
    "f = technology_sales['Sales']"
   ]
  },
  {
   "cell_type": "code",
   "execution_count": 34,
   "id": "d623f8ef",
   "metadata": {},
   "outputs": [
    {
     "data": {
      "image/png": "[encoded data removed]",
      "text/plain": [
       "<Figure size 1080x360 with 1 Axes>"
      ]
     },
     "metadata": {
      "needs_background": "light"
     },
     "output_type": "display_data"
    }
   ],
   "source": [
    "plt.figure(figsize=(15,5))\n",
    "plt.plot(a,b, label = 'Furniture Sales')\n",
    "plt.plot(c,d, label = 'Office Supplies')\n",
    "plt.plot(e,f, label = 'Technology Supples' )\n",
    "plt.title('Sales Trend from Jan, 2015 to Dec, 2018', fontsize = 20)\n",
    "plt.xlabel('Month-Year', fontsize = 14)\n",
    "plt.ylabel('Sales', fontsize = 14)\n",
    "plt.legend()\n",
    "plt.xticks(rotation =90)\n",
    "plt.yticks(np.arange(0,55000,5000))\n",
    "\n",
    "plt.show()"
   ]
  },
  {
   "cell_type": "code",
   "execution_count": 35,
   "id": "2d9e57e8",
   "metadata": {
    "scrolled": true
   },
   "outputs": [
    {
     "data": {
      "text/html": [
       "<div>\n",
       "<style scoped>\n",
       "    .dataframe tbody tr th:only-of-type {\n",
       "        vertical-align: middle;\n",
       "    }\n",
       "\n",
       "    .dataframe tbody tr th {\n",
       "        vertical-align: top;\n",
       "    }\n",
       "\n",
       "    .dataframe thead th {\n",
       "        text-align: right;\n",
       "    }\n",
       "</style>\n",
       "<table border=\"1\" class=\"dataframe\">\n",
       "  <thead>\n",
       "    <tr style=\"text-align: right;\">\n",
       "      <th></th>\n",
       "      <th>Row ID</th>\n",
       "      <th>Order ID</th>\n",
       "      <th>Order Date</th>\n",
       "      <th>Ship Date</th>\n",
       "      <th>Ship Mode</th>\n",
       "      <th>Customer ID</th>\n",
       "      <th>Customer Name</th>\n",
       "      <th>Segment</th>\n",
       "      <th>Country</th>\n",
       "      <th>City</th>\n",
       "      <th>State</th>\n",
       "      <th>Postal Code</th>\n",
       "      <th>Region</th>\n",
       "      <th>Product ID</th>\n",
       "      <th>Category</th>\n",
       "      <th>Sub-Category</th>\n",
       "      <th>Product Name</th>\n",
       "      <th>Sales</th>\n",
       "      <th>Order Month</th>\n",
       "      <th>Order Year</th>\n",
       "    </tr>\n",
       "  </thead>\n",
       "  <tbody>\n",
       "    <tr>\n",
       "      <th>6333</th>\n",
       "      <td>6334</td>\n",
       "      <td>CA-2015-167927</td>\n",
       "      <td>2015-01-20</td>\n",
       "      <td>26/01/2015</td>\n",
       "      <td>Standard Class</td>\n",
       "      <td>XP-21865</td>\n",
       "      <td>Xylona Preis</td>\n",
       "      <td>Consumer</td>\n",
       "      <td>United States</td>\n",
       "      <td>Westland</td>\n",
       "      <td>Michigan</td>\n",
       "      <td>48185.0</td>\n",
       "      <td>Central</td>\n",
       "      <td>OFF-BI-10004364</td>\n",
       "      <td>Office Supplies</td>\n",
       "      <td>Binders</td>\n",
       "      <td>Storex Dura Pro Binders</td>\n",
       "      <td>29.70</td>\n",
       "      <td>2015-01</td>\n",
       "      <td>2015</td>\n",
       "    </tr>\n",
       "    <tr>\n",
       "      <th>7474</th>\n",
       "      <td>7475</td>\n",
       "      <td>CA-2015-167199</td>\n",
       "      <td>2015-01-06</td>\n",
       "      <td>10/01/2015</td>\n",
       "      <td>Standard Class</td>\n",
       "      <td>ME-17320</td>\n",
       "      <td>Maria Etezadi</td>\n",
       "      <td>Home Office</td>\n",
       "      <td>United States</td>\n",
       "      <td>Henderson</td>\n",
       "      <td>Kentucky</td>\n",
       "      <td>42420.0</td>\n",
       "      <td>South</td>\n",
       "      <td>FUR-CH-10004063</td>\n",
       "      <td>Furniture</td>\n",
       "      <td>Chairs</td>\n",
       "      <td>Global Deluxe High-Back Manager's Chair</td>\n",
       "      <td>2573.82</td>\n",
       "      <td>2015-01</td>\n",
       "      <td>2015</td>\n",
       "    </tr>\n",
       "  </tbody>\n",
       "</table>\n",
       "</div>"
      ],
      "text/plain": [
       "      Row ID        Order ID Order Date   Ship Date       Ship Mode  \\\n",
       "6333    6334  CA-2015-167927 2015-01-20  26/01/2015  Standard Class   \n",
       "7474    7475  CA-2015-167199 2015-01-06  10/01/2015  Standard Class   \n",
       "\n",
       "     Customer ID  Customer Name      Segment        Country       City  \\\n",
       "6333    XP-21865   Xylona Preis     Consumer  United States   Westland   \n",
       "7474    ME-17320  Maria Etezadi  Home Office  United States  Henderson   \n",
       "\n",
       "         State  Postal Code   Region       Product ID         Category  \\\n",
       "6333  Michigan      48185.0  Central  OFF-BI-10004364  Office Supplies   \n",
       "7474  Kentucky      42420.0    South  FUR-CH-10004063        Furniture   \n",
       "\n",
       "     Sub-Category                             Product Name    Sales  \\\n",
       "6333      Binders                  Storex Dura Pro Binders    29.70   \n",
       "7474       Chairs  Global Deluxe High-Back Manager's Chair  2573.82   \n",
       "\n",
       "     Order Month Order Year  \n",
       "6333     2015-01       2015  \n",
       "7474     2015-01       2015  "
      ]
     },
     "execution_count": 35,
     "metadata": {},
     "output_type": "execute_result"
    }
   ],
   "source": [
    "sales_data['Order Year'] = sales_data['Order Date'].dt.to_period('Y')\n",
    "sales_data.head(2)"
   ]
  },
  {
   "cell_type": "markdown",
   "id": "f09f5147",
   "metadata": {},
   "source": [
    "## Sales performance between  2017 and 2018\n"
   ]
  },
  {
   "cell_type": "code",
   "execution_count": 36,
   "id": "b1477b3d",
   "metadata": {
    "scrolled": true
   },
   "outputs": [
    {
     "data": {
      "text/html": [
       "<div>\n",
       "<style scoped>\n",
       "    .dataframe tbody tr th:only-of-type {\n",
       "        vertical-align: middle;\n",
       "    }\n",
       "\n",
       "    .dataframe tbody tr th {\n",
       "        vertical-align: top;\n",
       "    }\n",
       "\n",
       "    .dataframe thead th {\n",
       "        text-align: right;\n",
       "    }\n",
       "</style>\n",
       "<table border=\"1\" class=\"dataframe\">\n",
       "  <thead>\n",
       "    <tr style=\"text-align: right;\">\n",
       "      <th></th>\n",
       "      <th>Category</th>\n",
       "      <th>2017 Sales</th>\n",
       "      <th>2018 Sales</th>\n",
       "    </tr>\n",
       "  </thead>\n",
       "  <tbody>\n",
       "    <tr>\n",
       "      <th>0</th>\n",
       "      <td>Furniture</td>\n",
       "      <td>195813.040</td>\n",
       "      <td>212313.7872</td>\n",
       "    </tr>\n",
       "    <tr>\n",
       "      <th>1</th>\n",
       "      <td>Office Supplies</td>\n",
       "      <td>182417.566</td>\n",
       "      <td>240367.5410</td>\n",
       "    </tr>\n",
       "    <tr>\n",
       "      <th>2</th>\n",
       "      <td>Technology</td>\n",
       "      <td>221961.944</td>\n",
       "      <td>269370.6910</td>\n",
       "    </tr>\n",
       "  </tbody>\n",
       "</table>\n",
       "</div>"
      ],
      "text/plain": [
       "          Category  2017 Sales   2018 Sales\n",
       "0        Furniture  195813.040  212313.7872\n",
       "1  Office Supplies  182417.566  240367.5410\n",
       "2       Technology  221961.944  269370.6910"
      ]
     },
     "execution_count": 36,
     "metadata": {},
     "output_type": "execute_result"
    }
   ],
   "source": [
    "## filtering data for 2017 and 2018\n",
    "sales2017 = sales_data.loc[sales_data['Order Year'] == '2017',['Category','Sales']].reset_index(drop =True)\n",
    "sales2017 = sales2017.groupby('Category').sum().reset_index()\n",
    "sales2017.columns = sales2017.columns.str.replace('Sales','2017 Sales')\n",
    "\n",
    "sales2018 = sales_data.loc[sales_data['Order Year'] == '2018',['Category','Sales']].reset_index()\n",
    "sales2018 = sales2018.groupby('Category').sum().reset_index()\n",
    "sales2018.columns = sales2018.columns.str.replace('Sales','2018 Sales')\n",
    "\n",
    "sales2017_2018 =sales2017.join(sales2018['2018 Sales'])\n",
    "sales2017_2018.head()"
   ]
  },
  {
   "cell_type": "code",
   "execution_count": 37,
   "id": "004ff683",
   "metadata": {},
   "outputs": [
    {
     "data": {
      "image/png": "[encoded data removed]",
      "text/plain": [
       "<Figure size 720x360 with 1 Axes>"
      ]
     },
     "metadata": {
      "needs_background": "light"
     },
     "output_type": "display_data"
    }
   ],
   "source": [
    "title = 'Comparing 2017 & 2018 Sales Performance'\n",
    "sales2017_2018[['Category', '2017 Sales', '2018 Sales']].plot(x='Category', kind ='barh', figsize=(10,5), title=title)\n",
    "\n",
    "plt.show()"
   ]
  },
  {
   "cell_type": "markdown",
   "id": "76873659",
   "metadata": {},
   "source": [
    "* The company performed better in terms of sales in 2018 than in 2017"
   ]
  }
 ],
 "metadata": {
  "kernelspec": {
   "display_name": "Python 3 (ipykernel)",
   "language": "python",
   "name": "python3"
  },
  "language_info": {
   "codemirror_mode": {
    "name": "ipython",
    "version": 3
   },
   "file_extension": ".py",
   "mimetype": "text/x-python",
   "name": "python",
   "nbconvert_exporter": "python",
   "pygments_lexer": "ipython3",
   "version": "3.10.2"
  }
 },
 "nbformat": 4,
 "nbformat_minor": 5
}
